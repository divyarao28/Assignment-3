{
 "cells": [
  {
   "cell_type": "markdown",
   "id": "0c8ce75d",
   "metadata": {},
   "source": [
    "# Write a Python function that accepts a string and calculate the number of upper case letters and lower case letters.\n",
    "\n"
   ]
  },
  {
   "cell_type": "code",
   "execution_count": 3,
   "id": "cd4639af",
   "metadata": {},
   "outputs": [],
   "source": [
    "def casecalculate(string):\n",
    "    u=0\n",
    "    l=0\n",
    "    string=string.replace(' ','')\n",
    "    for char in string:\n",
    "        if char.isupper():\n",
    "            u+=1\n",
    "        else:\n",
    "            l+=1\n",
    "    print('No. of Upper Case Characters : ',u)\n",
    "    print('No. of Lower Case Characters : ',l)\n",
    "    "
   ]
  },
  {
   "cell_type": "code",
   "execution_count": 4,
   "id": "e961d687",
   "metadata": {},
   "outputs": [
    {
     "name": "stdout",
     "output_type": "stream",
     "text": [
      "No. of Upper Case Characters :  3\n",
      "No. of Lower Case Characters :  12\n"
     ]
    }
   ],
   "source": [
    "s='The quick Brow Fox'\n",
    "casecalculate(s)"
   ]
  },
  {
   "cell_type": "code",
   "execution_count": null,
   "id": "fa17422b",
   "metadata": {},
   "outputs": [],
   "source": []
  }
 ],
 "metadata": {
  "kernelspec": {
   "display_name": "Python 3 (ipykernel)",
   "language": "python",
   "name": "python3"
  },
  "language_info": {
   "codemirror_mode": {
    "name": "ipython",
    "version": 3
   },
   "file_extension": ".py",
   "mimetype": "text/x-python",
   "name": "python",
   "nbconvert_exporter": "python",
   "pygments_lexer": "ipython3",
   "version": "3.9.6"
  }
 },
 "nbformat": 4,
 "nbformat_minor": 5
}
