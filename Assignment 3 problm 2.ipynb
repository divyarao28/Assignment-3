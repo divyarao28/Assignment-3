{
 "cells": [
  {
   "cell_type": "markdown",
   "id": "efe9d0fd",
   "metadata": {},
   "source": [
    "# Write a Python program to reverse a string.#"
   ]
  },
  {
   "cell_type": "code",
   "execution_count": 1,
   "id": "b3c814ec",
   "metadata": {},
   "outputs": [],
   "source": [
    "def value_reverse(value):\n",
    "    reverse = value[::-1]\n",
    "    print(reverse)"
   ]
  },
  {
   "cell_type": "code",
   "execution_count": 2,
   "id": "e403bca2",
   "metadata": {},
   "outputs": [
    {
     "name": "stdout",
     "output_type": "stream",
     "text": [
      "dcba4321\n"
     ]
    }
   ],
   "source": [
    "s = \"1234abcd\"\n",
    "result= value_reverse(s)"
   ]
  }
 ],
 "metadata": {
  "kernelspec": {
   "display_name": "Python 3 (ipykernel)",
   "language": "python",
   "name": "python3"
  },
  "language_info": {
   "codemirror_mode": {
    "name": "ipython",
    "version": 3
   },
   "file_extension": ".py",
   "mimetype": "text/x-python",
   "name": "python",
   "nbconvert_exporter": "python",
   "pygments_lexer": "ipython3",
   "version": "3.9.6"
  }
 },
 "nbformat": 4,
 "nbformat_minor": 5
}
